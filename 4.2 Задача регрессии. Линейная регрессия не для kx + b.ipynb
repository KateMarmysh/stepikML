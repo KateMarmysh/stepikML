{
 "cells": [
  {
   "cell_type": "code",
   "execution_count": 1,
   "outputs": [],
   "source": [
    "import numpy as np\n",
    "from scipy.optimize import curve_fit"
   ],
   "metadata": {
    "collapsed": false
   }
  },
  {
   "cell_type": "markdown",
   "source": [
    "Шаг № 1 блока «4.2 Задача регрессии. Линейная регрессия не для kx + b»\n",
    "\n",
    "В файле даны значения x, y\n",
    "\n",
    "Ваша задача найти коэффициенты a1, a2, a3 округлить их до ближайшего целого и записать через пробел"
   ],
   "metadata": {
    "collapsed": false
   }
  },
  {
   "cell_type": "code",
   "execution_count": 2,
   "outputs": [
    {
     "name": "stdout",
     "output_type": "stream",
     "text": [
      "2 2 3\n"
     ]
    }
   ],
   "source": [
    "data = np.load('data(4.2.1).npz')\n",
    "x = data['x']\n",
    "y = data['y']\n",
    "\n",
    "\n",
    "def func(x, a1, a2, a3):\n",
    "    return a1*np.sin(x) + a2*np.cos(x) + a3\n",
    "\n",
    "\n",
    "params, params_covariance = curve_fit(func, x, y)\n",
    "\n",
    "a1 = round(params[0])\n",
    "a2 = round(params[1])\n",
    "a3 = round(params[2])\n",
    "\n",
    "print(a1, a2, a3)"
   ],
   "metadata": {
    "collapsed": false
   }
  },
  {
   "cell_type": "markdown",
   "source": [
    "Шаг № 2 блока «4.2 Задача регрессии. Линейная регрессия не для kx + b»\n",
    "\n",
    "В файле даны значения x, y\n",
    "\n",
    "Ваша задача найти коэффициенты a1, a2, a3, a4 округлить их до ближайшего целого и записать через пробел"
   ],
   "metadata": {
    "collapsed": false
   }
  },
  {
   "cell_type": "code",
   "execution_count": 3,
   "outputs": [
    {
     "name": "stdout",
     "output_type": "stream",
     "text": [
      "48 2 7 250\n"
     ]
    }
   ],
   "source": [
    "data = np.load('data(4.2.2).npz')\n",
    "x = data['x']\n",
    "y = data['y']\n",
    "\n",
    "\n",
    "def func(x, a1, a2, a3, a4):\n",
    "    return a1*np.sin(x) + a2*x + a3*(x**2) + a4\n",
    "\n",
    "\n",
    "params, params_covariance = curve_fit(func, x, y)\n",
    "\n",
    "a1 = round(params[0])\n",
    "a2 = round(params[1])\n",
    "a3 = round(params[2])\n",
    "a4 = round(params[3])\n",
    "\n",
    "print(a1, a2, a3, a4)"
   ],
   "metadata": {
    "collapsed": false
   }
  }
 ],
 "metadata": {
  "kernelspec": {
   "display_name": "Python 3",
   "language": "python",
   "name": "python3"
  },
  "language_info": {
   "codemirror_mode": {
    "name": "ipython",
    "version": 2
   },
   "file_extension": ".py",
   "mimetype": "text/x-python",
   "name": "python",
   "nbconvert_exporter": "python",
   "pygments_lexer": "ipython2",
   "version": "2.7.6"
  }
 },
 "nbformat": 4,
 "nbformat_minor": 0
}
