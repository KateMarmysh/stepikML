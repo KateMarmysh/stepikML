{
 "cells": [
  {
   "cell_type": "code",
   "execution_count": 1,
   "metadata": {
    "collapsed": true
   },
   "outputs": [],
   "source": [
    "import pandas as pd"
   ]
  },
  {
   "cell_type": "markdown",
   "source": [
    "Шаг № 1 блока «2.15 Pandas. Небольшая самостоятельная»\n",
    "\n",
    "По файлу посчитайте кол-во победителей финальных олимпиад (stage = 4) по математике"
   ],
   "metadata": {
    "collapsed": false
   }
  },
  {
   "cell_type": "code",
   "execution_count": 2,
   "outputs": [
    {
     "name": "stdout",
     "output_type": "stream",
     "text": [
      "46\n"
     ]
    }
   ],
   "source": [
    "df = pd.read_csv('https://raw.githubusercontent.com/bykov-alexei/data-science-course/master/Python3/moscow%20schools%20-%20winners.csv')\n",
    "print(df[(df['Stage'] == '4') & (df['Subject'] == 'Математика') & (df['Status'] == 'победитель')].FullName.count())"
   ],
   "metadata": {
    "collapsed": false
   }
  },
  {
   "cell_type": "markdown",
   "source": [
    "Шаг № 2 блока «2.15 Pandas. Небольшая самостоятельная»\n",
    "\n",
    "По тому же файлу посчитайте кол-во призеров регионального этапа (stage=3) по информатике из 9-ого класса"
   ],
   "metadata": {
    "collapsed": false
   }
  },
  {
   "cell_type": "code",
   "execution_count": 3,
   "outputs": [
    {
     "name": "stdout",
     "output_type": "stream",
     "text": [
      "349\n"
     ]
    }
   ],
   "source": [
    "df = pd.read_csv('https://raw.githubusercontent.com/bykov-alexei/data-science-course/master/Python3/moscow%20schools%20-%20winners.csv')\n",
    "print(df[(df['Stage'] == '3') & (df['Subject'] == 'Информатика') & (df['Status'] == 'призёр') & (df['Class'] == '9')].FullName.count())"
   ],
   "metadata": {
    "collapsed": false
   }
  },
  {
   "cell_type": "markdown",
   "source": [
    "Шаг № 3 блока «2.15 Pandas. Небольшая самостоятельная»\n",
    "\n",
    "Составьте рейтинг школ по кол-ву победителей любых этапов и напишите школу с наибольшим кол-вом. В качестве ответа используйте ShortName"
   ],
   "metadata": {
    "collapsed": false
   }
  },
  {
   "cell_type": "markdown",
   "source": [
    "Рейтинг школ:"
   ],
   "metadata": {
    "collapsed": false
   }
  },
  {
   "cell_type": "code",
   "execution_count": 3,
   "outputs": [
    {
     "name": "stdout",
     "output_type": "stream",
     "text": [
      "ГБОУ лицей «Вторая школа»                         235\n",
      "ГБОУ школа № 1329                                 223\n",
      "ФГБОУ ВПО «МГУ им. М.В. Ломоносова» . СУНЦ МГУ    209\n",
      "ГБОУ школа № 57                                   198\n",
      "ГАОУ ВО МИОО. СОШ № 179                           196\n",
      "                                                 ... \n",
      "ГБОУ школа № 1360                                   1\n",
      "ГБОУ СОШ № 1355                                     1\n",
      "ГБОУ СОШ № 1352                                     1\n",
      "ГБОУ СОШ № 1852                                     1\n",
      "ОЧУ «Свято-Владимирская школа»                      1\n",
      "Name: ShortName, Length: 1025, dtype: int64\n"
     ]
    }
   ],
   "source": [
    "df = pd.read_csv('https://raw.githubusercontent.com/bykov-alexei/data-science-course/master/Python3/moscow%20schools%20-%20winners.csv')\n",
    "df_new = df[df[\"Status\"] == 'победитель']\n",
    "print(df_new.ShortName.value_counts())"
   ],
   "metadata": {
    "collapsed": false
   }
  },
  {
   "cell_type": "markdown",
   "source": [
    "Лучшая школа (первый вариант решения):"
   ],
   "metadata": {
    "collapsed": false
   }
  },
  {
   "cell_type": "code",
   "execution_count": 4,
   "outputs": [
    {
     "name": "stdout",
     "output_type": "stream",
     "text": [
      "ГБОУ лицей «Вторая школа»\n"
     ]
    }
   ],
   "source": [
    "df = pd.read_csv('https://raw.githubusercontent.com/bykov-alexei/data-science-course/master/Python3/moscow%20schools%20-%20winners.csv')\n",
    "df_new = df[df[\"Status\"] == 'победитель']\n",
    "print(df_new.ShortName.value_counts().idxmax())"
   ],
   "metadata": {
    "collapsed": false
   }
  },
  {
   "cell_type": "markdown",
   "source": [
    "Лучшая школа (второй вариант решения):"
   ],
   "metadata": {
    "collapsed": false
   }
  },
  {
   "cell_type": "code",
   "execution_count": 5,
   "outputs": [
    {
     "name": "stdout",
     "output_type": "stream",
     "text": [
      "ГБОУ лицей «Вторая школа»\n"
     ]
    }
   ],
   "source": [
    "df = pd.read_csv('https://raw.githubusercontent.com/bykov-alexei/data-science-course/master/Python3/moscow%20schools%20-%20winners.csv')\n",
    "df_new = df[df[\"Status\"] == 'победитель']\n",
    "print(df_new.groupby(['ShortName']).size().idxmax())"
   ],
   "metadata": {
    "collapsed": false
   }
  }
 ],
 "metadata": {
  "kernelspec": {
   "display_name": "Python 3",
   "language": "python",
   "name": "python3"
  },
  "language_info": {
   "codemirror_mode": {
    "name": "ipython",
    "version": 2
   },
   "file_extension": ".py",
   "mimetype": "text/x-python",
   "name": "python",
   "nbconvert_exporter": "python",
   "pygments_lexer": "ipython2",
   "version": "2.7.6"
  }
 },
 "nbformat": 4,
 "nbformat_minor": 0
}
