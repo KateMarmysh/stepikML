{
 "cells": [
  {
   "cell_type": "code",
   "execution_count": 1,
   "outputs": [],
   "source": [
    "import numpy as np\n",
    "from sklearn.linear_model import LinearRegression"
   ],
   "metadata": {
    "collapsed": false
   }
  },
  {
   "cell_type": "markdown",
   "source": [
    "Шаг № 1 блока «4.1 Задача регрессии. Линейная регрессия»\n",
    "\n",
    "Вам даны два ряда. В одном ряду значения курса валюты за определенный промежуток времени, во втором ряду находится предсказанный некоторой моделью курс этой же валюты. По двум рядам определите ошибку предсказания MSE"
   ],
   "metadata": {
    "collapsed": false
   }
  },
  {
   "cell_type": "code",
   "execution_count": 2,
   "outputs": [
    {
     "name": "stdout",
     "output_type": "stream",
     "text": [
      "489.1618273504579\n"
     ]
    }
   ],
   "source": [
    "first_series = np.load('first-series(1).npy')\n",
    "second_series = np.load('second-series(1).npy')\n",
    "MSE = ((first_series - second_series) ** 2).mean()\n",
    "print(MSE)"
   ],
   "metadata": {
    "collapsed": false
   }
  },
  {
   "cell_type": "markdown",
   "source": [
    "Шаг № 2 блока «4.1 Задача регрессии. Линейная регрессия»\n",
    "\n",
    "Вам даны два ряда. В одном ряду значения курса валюты за определенный промежуток времени, во втором ряду находится предсказанный некоторой моделью курс этой же валюты. По двум рядам определите ошибку предсказания RMSE"
   ],
   "metadata": {
    "collapsed": false
   }
  },
  {
   "cell_type": "code",
   "execution_count": 3,
   "outputs": [
    {
     "name": "stdout",
     "output_type": "stream",
     "text": [
      "22.117003127694716\n"
     ]
    }
   ],
   "source": [
    "first_series = np.load('first-series(2).npy')\n",
    "second_series = np.load('second-series(2).npy')\n",
    "RMSE = np.sqrt(np.mean((first_series - second_series) ** 2))\n",
    "print(RMSE)"
   ],
   "metadata": {
    "collapsed": false
   }
  },
  {
   "cell_type": "markdown",
   "source": [
    "Шаг № 3 блока «4.1 Задача регрессии. Линейная регрессия»\n",
    "\n",
    "Вам даны два ряда. В одном ряду значения курса валюты за определенный промежуток времени, во втором ряду находится предсказанный некоторой моделью курс этой же валюты. По двум рядам определите ошибку предсказания MAE"
   ],
   "metadata": {
    "collapsed": false
   }
  },
  {
   "cell_type": "code",
   "execution_count": 4,
   "outputs": [
    {
     "name": "stdout",
     "output_type": "stream",
     "text": [
      "17.996466944603256\n"
     ]
    }
   ],
   "source": [
    "first_series = np.load('first-series(3).npy')\n",
    "second_series = np.load('second-series(3).npy')\n",
    "MAE = np.absolute(first_series - second_series).mean()\n",
    "print(MAE)"
   ],
   "metadata": {
    "collapsed": false
   }
  },
  {
   "cell_type": "markdown",
   "source": [
    "Шаг № 4 блока «4.1 Задача регрессии. Линейная регрессия»\n",
    "\n",
    "Постройте линейную регрессию по данным и в ответ запишите получившийся коэффициент k"
   ],
   "metadata": {
    "collapsed": false
   }
  },
  {
   "cell_type": "code",
   "execution_count": 5,
   "outputs": [
    {
     "name": "stdout",
     "output_type": "stream",
     "text": [
      "2.3470422819942187\n"
     ]
    }
   ],
   "source": [
    "data = np.load('data(4.1).npz')\n",
    "x = data['years'].reshape(-1, 1)\n",
    "y = data['prices']\n",
    "model = LinearRegression()\n",
    "model.fit(x, y)\n",
    "k = model.coef_\n",
    "print(*k)"
   ],
   "metadata": {
    "collapsed": false
   }
  }
 ],
 "metadata": {
  "kernelspec": {
   "display_name": "Python 3",
   "language": "python",
   "name": "python3"
  },
  "language_info": {
   "codemirror_mode": {
    "name": "ipython",
    "version": 2
   },
   "file_extension": ".py",
   "mimetype": "text/x-python",
   "name": "python",
   "nbconvert_exporter": "python",
   "pygments_lexer": "ipython2",
   "version": "2.7.6"
  }
 },
 "nbformat": 4,
 "nbformat_minor": 0
}
