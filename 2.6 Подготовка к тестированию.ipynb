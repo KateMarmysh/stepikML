{
 "cells": [
  {
   "cell_type": "code",
   "execution_count": 1,
   "metadata": {
    "collapsed": true
   },
   "outputs": [],
   "source": [
    "import pandas as pd"
   ]
  },
  {
   "cell_type": "markdown",
   "source": [
    "Шаг № 3 блока «2.6 Подготовка к тестированию»\n",
    "\n",
    "Проанализируйте данные о некоторых землетрясениях и найдите дату и время самого мощного среди представленных.\n",
    "\n",
    "В файле лежат две колонки date (время землетрясения) и magnitude (значения силы землетрясения по шкале Рихтера)."
   ],
   "metadata": {
    "collapsed": false
   }
  },
  {
   "cell_type": "code",
   "execution_count": 2,
   "outputs": [
    {
     "name": "stdout",
     "output_type": "stream",
     "text": [
      "05/02/1983 23:42:38\n"
     ]
    }
   ],
   "source": [
    "data = pd.read_csv('https://raw.githubusercontent.com/bykov-alexei/data-science-course/master/Python3/earthquakes.csv')\n",
    "print(data.loc[data.magnitude.idxmax()].date)"
   ],
   "metadata": {
    "collapsed": false
   }
  },
  {
   "cell_type": "markdown",
   "source": [
    "Шаг № 4 блока «2.6 Подготовка к тестированию»\n",
    "\n",
    "По файлу посчитайте кол-во победителей финальных олимпиад (stage = 4) по математике"
   ],
   "metadata": {
    "collapsed": false
   }
  },
  {
   "cell_type": "code",
   "execution_count": 3,
   "outputs": [
    {
     "name": "stdout",
     "output_type": "stream",
     "text": [
      "46\n"
     ]
    }
   ],
   "source": [
    "df = pd.read_csv('https://raw.githubusercontent.com/bykov-alexei/data-science-course/master/Python3/moscow%20schools%20-%20winners.csv')\n",
    "print(len(df[(df.Stage == '4') & (df.Status == 'победитель') & (df.Subject == 'Математика')]))"
   ],
   "metadata": {
    "collapsed": false
   }
  }
 ],
 "metadata": {
  "kernelspec": {
   "display_name": "Python 3",
   "language": "python",
   "name": "python3"
  },
  "language_info": {
   "codemirror_mode": {
    "name": "ipython",
    "version": 2
   },
   "file_extension": ".py",
   "mimetype": "text/x-python",
   "name": "python",
   "nbconvert_exporter": "python",
   "pygments_lexer": "ipython2",
   "version": "2.7.6"
  }
 },
 "nbformat": 4,
 "nbformat_minor": 0
}
