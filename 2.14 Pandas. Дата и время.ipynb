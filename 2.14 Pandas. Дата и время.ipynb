{
 "cells": [
  {
   "cell_type": "code",
   "execution_count": 1,
   "metadata": {
    "collapsed": true
   },
   "outputs": [],
   "source": [
    "import pandas as pd"
   ]
  },
  {
   "cell_type": "markdown",
   "source": [
    "Шаг № 1 блока «2.14 Pandas. Дата и время»\n",
    "\n",
    "По файлу titanic.csv определите сколько раз встречается в имени обращение Sir (там же где и Mr, Mrs в колонке Name)."
   ],
   "metadata": {
    "collapsed": false
   }
  },
  {
   "cell_type": "code",
   "execution_count": 2,
   "outputs": [
    {
     "name": "stdout",
     "output_type": "stream",
     "text": [
      "1\n"
     ]
    }
   ],
   "source": [
    "df = pd.read_csv('https://raw.githubusercontent.com/bykov-alexei/data-science-course/master/Python3/titanic_train.csv')\n",
    "print(df['Name'][df['Name'].str.contains('Sir. ')].count())"
   ],
   "metadata": {
    "collapsed": false
   }
  },
  {
   "cell_type": "markdown",
   "source": [
    "Шаг № 2 блока «2.14 Pandas. Дата и время»\n",
    "\n",
    "По файлу titanic.csv определите сколько за билет заплатил капитан (колонка Fare). (Это не капитан Титаника, просто капитан какого-то корабля, который был пассажиром, смотреть нужно также по обращению)"
   ],
   "metadata": {
    "collapsed": false
   }
  },
  {
   "cell_type": "markdown",
   "source": [
    "Первый вариант решения:"
   ],
   "metadata": {
    "collapsed": false
   }
  },
  {
   "cell_type": "code",
   "execution_count": 3,
   "outputs": [
    {
     "name": "stdout",
     "output_type": "stream",
     "text": [
      "71.0\n"
     ]
    }
   ],
   "source": [
    "df = pd.read_csv('https://raw.githubusercontent.com/bykov-alexei/data-science-course/master/Python3/titanic_train.csv')\n",
    "name_capt = df[df['Name'].str.contains('Capt')]\n",
    "print(*name_capt['Fare'])"
   ],
   "metadata": {
    "collapsed": false
   }
  },
  {
   "cell_type": "markdown",
   "source": [
    "Второй вариант решения:"
   ],
   "metadata": {
    "collapsed": false
   }
  },
  {
   "cell_type": "code",
   "execution_count": 4,
   "outputs": [
    {
     "name": "stdout",
     "output_type": "stream",
     "text": [
      "71.0\n"
     ]
    }
   ],
   "source": [
    "df = pd.read_csv('https://raw.githubusercontent.com/bykov-alexei/data-science-course/master/Python3/titanic_train.csv')\n",
    "print(*df[df['Name'].str.contains('Capt')]['Fare'])"
   ],
   "metadata": {
    "collapsed": false
   }
  },
  {
   "cell_type": "markdown",
   "source": [
    "Шаг № 4 блока «2.14 Pandas. Дата и время»\n",
    "\n",
    "По данным с сообщениями о преступлениях в Бостоне определите, сколько сообщений было сделано 15-го июня 2015 года в промежуток с 8 до 9 часов утра"
   ],
   "metadata": {
    "collapsed": false
   }
  },
  {
   "cell_type": "markdown",
   "source": [
    "Первый вариант решения:"
   ],
   "metadata": {
    "collapsed": false
   }
  },
  {
   "cell_type": "code",
   "execution_count": 5,
   "outputs": [
    {
     "name": "stdout",
     "output_type": "stream",
     "text": [
      "12\n"
     ]
    }
   ],
   "source": [
    "url = 'https://raw.githubusercontent.com/bykov-alexei/data-science-course/master/Pandas/crime.csv'\n",
    "df = pd.read_csv(url, encoding='ANSI')\n",
    "df_new = df[(df['OCCURRED_ON_DATE'].str.contains('2015-06-15')) & (df['HOUR'] == 8)]\n",
    "print(df_new.INCIDENT_NUMBER.count())"
   ],
   "metadata": {
    "collapsed": false
   }
  },
  {
   "cell_type": "markdown",
   "source": [
    "Второй вариант решения:"
   ],
   "metadata": {
    "collapsed": false
   }
  },
  {
   "cell_type": "code",
   "execution_count": 6,
   "outputs": [
    {
     "name": "stdout",
     "output_type": "stream",
     "text": [
      "12\n"
     ]
    }
   ],
   "source": [
    "url = 'https://raw.githubusercontent.com/bykov-alexei/data-science-course/master/Pandas/crime.csv'\n",
    "df = pd.read_csv(url, encoding='ANSI')\n",
    "df_new = df[df['OCCURRED_ON_DATE'].str.contains('2015-06-15')]\n",
    "print(df_new[df_new['HOUR'] == 8].INCIDENT_NUMBER.count())"
   ],
   "metadata": {
    "collapsed": false
   }
  },
  {
   "cell_type": "markdown",
   "source": [
    "Шаг № 5 блока «2.14 Pandas. Дата и время»\n",
    "\n",
    "По данным с сообщениями о преступлениях в Бостоне определите, сколько сообщений было сделано 15-го июня 2015 года в промежуток с 6 до 9 часов утра."
   ],
   "metadata": {
    "collapsed": false
   }
  },
  {
   "cell_type": "code",
   "execution_count": 7,
   "outputs": [
    {
     "name": "stdout",
     "output_type": "stream",
     "text": [
      "22\n"
     ]
    }
   ],
   "source": [
    "url = 'https://raw.githubusercontent.com/bykov-alexei/data-science-course/master/Pandas/crime.csv'\n",
    "df = pd.read_csv(url, encoding='ANSI')\n",
    "df_new = df[(df['OCCURRED_ON_DATE'].str.contains('2015-06-15')) & (df['HOUR'] >= 6) & (df['HOUR'] < 9)]\n",
    "print(df_new.INCIDENT_NUMBER.count())"
   ],
   "metadata": {
    "collapsed": false
   }
  },
  {
   "cell_type": "markdown",
   "source": [
    "Шаг № 6 блока «2.14 Pandas. Дата и время»\n",
    "\n",
    "По данным с сообщениями о преступлениях в Бостоне определите, сколько сообщений о вандализме было сделано 1-го января 2017 года."
   ],
   "metadata": {
    "collapsed": false
   }
  },
  {
   "cell_type": "code",
   "execution_count": 8,
   "outputs": [
    {
     "name": "stdout",
     "output_type": "stream",
     "text": [
      "12\n"
     ]
    }
   ],
   "source": [
    "url = 'https://raw.githubusercontent.com/bykov-alexei/data-science-course/master/Pandas/crime.csv'\n",
    "df = pd.read_csv(url, encoding='ANSI')\n",
    "df_new = df[(df['OFFENSE_CODE_GROUP'] == 'Vandalism') & (df['OCCURRED_ON_DATE'].str.contains('2017-01-01'))]\n",
    "print(df_new.INCIDENT_NUMBER.count())"
   ],
   "metadata": {
    "collapsed": false
   }
  },
  {
   "cell_type": "markdown",
   "source": [
    "Шаг № 7 блока «2.14 Pandas. Дата и время»\n",
    "\n",
    "По данным с сообщениями о преступлениях в Бостоне определите, день 2017 года, когда было больше всего сообщений о вандализме."
   ],
   "metadata": {
    "collapsed": false
   }
  },
  {
   "cell_type": "code",
   "execution_count": 9,
   "outputs": [
    {
     "name": "stdout",
     "output_type": "stream",
     "text": [
      "2017-05-05\n"
     ]
    }
   ],
   "source": [
    "url = 'https://raw.githubusercontent.com/bykov-alexei/data-science-course/master/Pandas/crime.csv'\n",
    "df = pd.read_csv(url, encoding='ANSI')\n",
    "df_new = df[(df['OFFENSE_CODE_GROUP'] == 'Vandalism') & (df['YEAR'] == 2017)]\n",
    "print(df_new.groupby(pd.to_datetime(df['OCCURRED_ON_DATE']).dt.date).size().idxmax())"
   ],
   "metadata": {
    "collapsed": false
   }
  }
 ],
 "metadata": {
  "kernelspec": {
   "display_name": "Python 3",
   "language": "python",
   "name": "python3"
  },
  "language_info": {
   "codemirror_mode": {
    "name": "ipython",
    "version": 2
   },
   "file_extension": ".py",
   "mimetype": "text/x-python",
   "name": "python",
   "nbconvert_exporter": "python",
   "pygments_lexer": "ipython2",
   "version": "2.7.6"
  }
 },
 "nbformat": 4,
 "nbformat_minor": 0
}
