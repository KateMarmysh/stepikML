{
 "cells": [
  {
   "cell_type": "code",
   "execution_count": 1,
   "outputs": [],
   "source": [
    "import numpy as np\n",
    "from sklearn.metrics import accuracy_score\n",
    "from sklearn.metrics import precision_score\n",
    "from sklearn.metrics import recall_score\n",
    "from sklearn.metrics import f1_score"
   ],
   "metadata": {
    "collapsed": false
   }
  },
  {
   "cell_type": "markdown",
   "source": [
    "Шаг № 1 блока «4.3 Задача классификации. Метрики»\n",
    "\n",
    "В файле даны предсказания модели (y_pred), а также реальные данные (y_true). Ваша задача по двум массивам оценить accuracy модели, ответ укажите в процентах, т.е. если 499 из 1000 ответов верные, то ответ будет 49.9"
   ],
   "metadata": {
    "collapsed": false
   }
  },
  {
   "cell_type": "code",
   "execution_count": 2,
   "outputs": [
    {
     "name": "stdout",
     "output_type": "stream",
     "text": [
      "89.4\n"
     ]
    }
   ],
   "source": [
    "data = np.load('predictions.npz')\n",
    "y_true = data['y_true']\n",
    "y_pred = data['y_pred']\n",
    "print(accuracy_score(y_true, y_pred) * 100)"
   ],
   "metadata": {
    "collapsed": false
   }
  },
  {
   "cell_type": "markdown",
   "source": [
    "Шаг № 2 блока «4.3 Задача классификации. Метрики»\n",
    "\n",
    "В файле даны предсказания модели (y_pred), а также реальные данные (y_true). Ваша задача по двум массивам оценить precision модели"
   ],
   "metadata": {
    "collapsed": false
   }
  },
  {
   "cell_type": "code",
   "execution_count": 3,
   "outputs": [
    {
     "name": "stdout",
     "output_type": "stream",
     "text": [
      "89.4\n"
     ]
    }
   ],
   "source": [
    "data = np.load('predictions.npz')\n",
    "y_true = data['y_true']\n",
    "y_pred = data['y_pred']\n",
    "print(precision_score(y_true, y_pred) * 100)"
   ],
   "metadata": {
    "collapsed": false
   }
  },
  {
   "cell_type": "markdown",
   "source": [
    "Шаг № 3 блока «4.3 Задача классификации. Метрики»\n",
    "\n",
    "В файле даны предсказания модели (y_pred), а также реальные данные (y_true). Ваша задача по двум массивам оценить recall модели"
   ],
   "metadata": {
    "collapsed": false
   }
  },
  {
   "cell_type": "code",
   "execution_count": 4,
   "outputs": [
    {
     "name": "stdout",
     "output_type": "stream",
     "text": [
      "100.0\n"
     ]
    }
   ],
   "source": [
    "data = np.load(r'C:\\Users\\User\\Downloads\\predictions.npz')\n",
    "y_true = data['y_true']\n",
    "y_pred = data['y_pred']\n",
    "print(recall_score(y_true, y_pred) * 100)"
   ],
   "metadata": {
    "collapsed": false
   }
  },
  {
   "cell_type": "markdown",
   "source": [
    "Шаг № 4 блока «4.3 Задача классификации. Метрики»\n",
    "\n",
    "В файле даны предсказания модели (y_pred), а также реальные данные (y_true). Ваша задача по двум массивам оценить f1-score модели"
   ],
   "metadata": {
    "collapsed": false
   }
  },
  {
   "cell_type": "code",
   "execution_count": 5,
   "outputs": [
    {
     "name": "stdout",
     "output_type": "stream",
     "text": [
      "94.40337909186906\n"
     ]
    }
   ],
   "source": [
    "data = np.load(r'C:\\Users\\User\\Downloads\\predictions.npz')\n",
    "y_true = data['y_true']\n",
    "y_pred = data['y_pred']\n",
    "print(f1_score(y_true, y_pred) * 100)"
   ],
   "metadata": {
    "collapsed": false
   }
  }
 ],
 "metadata": {
  "kernelspec": {
   "display_name": "Python 3",
   "language": "python",
   "name": "python3"
  },
  "language_info": {
   "codemirror_mode": {
    "name": "ipython",
    "version": 2
   },
   "file_extension": ".py",
   "mimetype": "text/x-python",
   "name": "python",
   "nbconvert_exporter": "python",
   "pygments_lexer": "ipython2",
   "version": "2.7.6"
  }
 },
 "nbformat": 4,
 "nbformat_minor": 0
}
