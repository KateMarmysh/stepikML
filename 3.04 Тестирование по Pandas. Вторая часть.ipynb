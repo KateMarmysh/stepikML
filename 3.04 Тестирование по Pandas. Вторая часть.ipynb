{
 "cells": [
  {
   "cell_type": "code",
   "execution_count": 1,
   "metadata": {
    "collapsed": true
   },
   "outputs": [],
   "source": [
    "import pandas as pd"
   ]
  },
  {
   "cell_type": "code",
   "execution_count": 2,
   "outputs": [],
   "source": [
    "url = 'https://raw.githubusercontent.com/bykov-alexei/data-science-course/master/Pandas/app_store_reviews.csv'\n",
    "df = pd.read_csv(url)"
   ],
   "metadata": {
    "collapsed": false
   }
  },
  {
   "cell_type": "markdown",
   "source": [
    "Шаг № 2 блока «3.4 Тестирование по Pandas. Вторая часть»\n",
    "\n",
    "В файле есть колонка с пропусками, напишите ее название"
   ],
   "metadata": {
    "collapsed": false
   }
  },
  {
   "cell_type": "code",
   "execution_count": 3,
   "outputs": [
    {
     "name": "stdout",
     "output_type": "stream",
     "text": [
      "developerResponse\n"
     ]
    }
   ],
   "source": [
    "print(df.isna().sum().idxmax())"
   ],
   "metadata": {
    "collapsed": false
   }
  },
  {
   "cell_type": "markdown",
   "source": [
    "Шаг № 3 блока «3.4 Тестирование по Pandas. Вторая часть»\n",
    "\n",
    "Определите кол-во пятерок для приложения whatsapp-messenger"
   ],
   "metadata": {
    "collapsed": false
   }
  },
  {
   "cell_type": "code",
   "execution_count": 4,
   "outputs": [
    {
     "name": "stdout",
     "output_type": "stream",
     "text": [
      "4504\n"
     ]
    }
   ],
   "source": [
    "df_new = df[(df['app_name'] == 'whatsapp-messenger') & (df['rating'] == 5)]\n",
    "print(df_new.rating.count())"
   ],
   "metadata": {
    "collapsed": false
   }
  },
  {
   "cell_type": "markdown",
   "source": [
    "Шаг № 4 блока «3.4 Тестирование по Pandas. Вторая часть»\n",
    "\n",
    "Посчитайте среднюю оценку для приложения talking-tom-cat-2"
   ],
   "metadata": {
    "collapsed": false
   }
  },
  {
   "cell_type": "code",
   "execution_count": 5,
   "outputs": [
    {
     "name": "stdout",
     "output_type": "stream",
     "text": [
      "4.623682579045258\n"
     ]
    }
   ],
   "source": [
    "df_new = df[df['app_name'] == 'talking-tom-cat-2']\n",
    "print(df_new.rating.mean())"
   ],
   "metadata": {
    "collapsed": false
   }
  },
  {
   "cell_type": "markdown",
   "source": [
    "Шаг № 5 блока «3.4 Тестирование по Pandas. Вторая часть»\n",
    "\n",
    "Определите кол-во непустых записей в столбце developerResponse"
   ],
   "metadata": {
    "collapsed": false
   }
  },
  {
   "cell_type": "code",
   "execution_count": 6,
   "outputs": [
    {
     "name": "stdout",
     "output_type": "stream",
     "text": [
      "51\n"
     ]
    }
   ],
   "source": [
    "print(df.developerResponse.count())"
   ],
   "metadata": {
    "collapsed": false
   }
  },
  {
   "cell_type": "markdown",
   "source": [
    "Шаг № 6 блока «3.4 Тестирование по Pandas. Вторая часть»\n",
    "\n",
    "Определите приложение с наибольшей средней оценкой"
   ],
   "metadata": {
    "collapsed": false
   }
  },
  {
   "cell_type": "code",
   "execution_count": 7,
   "outputs": [
    {
     "name": "stdout",
     "output_type": "stream",
     "text": [
      "talking-tom-cat-2\n"
     ]
    }
   ],
   "source": [
    "print(df.groupby('app_name').rating.mean().idxmax())"
   ],
   "metadata": {
    "collapsed": false
   }
  },
  {
   "cell_type": "markdown",
   "source": [
    "Шаг № 7 блока «3.4 Тестирование по Pandas. Вторая часть»\n",
    "\n",
    "Найдите самый длинный отзыв и прикрепите его в качестве ответа. В качестве меры длины используете кол-во слов. Словом считайте все что отделено пробелом"
   ],
   "metadata": {
    "collapsed": false
   }
  },
  {
   "cell_type": "code",
   "execution_count": 8,
   "outputs": [
    {
     "name": "stdout",
     "output_type": "stream",
     "text": [
      "Noch nie habe ich eine App gehabt, die so viele Funktionen in sich vereint! Kostenlose Nachrichten, Videos, Standorte, Sprachnachrichten, und bald soll man auch VoIP nutzen können! Am meisten fasziniert mich jedoch eine Funktion, die mein Leben wesentlich erleichtert hat und die ich nie mehr missen möchte: Die Datenweiterleitungsfunktion! Ich brauche keine Wunschliste mehr an das Christkind zu senden, denn WhatsApp findet automatisch heraus, was ich mir wünsche und leitet es in Echtzeit weiter! Wenn ich einmal eine Telefonnummer nicht mehr weiß oder unabsichtlich gelöscht habe, dann ist WhatsApp der Retter in Not, denn es hat vorsorglich alle meine Telefonkontakte abgegriffen und auf speziell gesicherten Servern im Ausland gespeichert! Ich bin sogar überzeugt, dass WhatsApp dieses Service bald erweitert, und zukünftig auch von Fotos, Nachrichten und Sprachnachrichten eine verschlüsselte Datensicherung durchführt, um dem Nutzer immer helfen zu können, wenn mal etwas verloren geht! Angeblich speichert WhatsApp auch Standorte, um diesen im Notfall rasch an Rettungsorganisationen weitergeben zu können. Leider gibt es immer wieder Menschen, die Gerüchte verbreiten und behaupten, WhatsApp verwende alle diese gesammelten Daten, nur um viel Geld damit zu verdienen, das stimmt aber alles nicht! WhatsApp ist sehr seriös und missbraucht mit Sicherheit keine Daten, gerade nach dem Zusammenschluss mit Facebook kann man sich sehr sicher sein, dass mit den Daten sehr sorgsam umgegangen wird, bei Facebook wurde Datensicherheit ja immer sehr groß geschrieben und nie sowas verkauft, nur um Geld damit zu verdienen! Alles in Allem bin ich sehr zufrieden mit der App und würde mit wünschen, dass demnächst auch die Gesundheitsdaten gespeichert werden, ELGA ist mir nämlich zu unsicher, denn da liegen die Daten auf österr. Servern, man weiß ja schließlich nie, an wen die Regierung meine Daten weiterverkauft um den Budgetüberschuss noch einmal größer zu machen! Als ob wir hier zu wenig Geld hätten, das ist doch lächerlich! Wir sind schließlich das reichste Land der Welt ;-).\n"
     ]
    }
   ],
   "source": [
    "max_words = df['review'].str.split().str.len().max()\n",
    "longest_review = df[df['review'].str.split().str.len() == max_words]['review'].iloc[0]\n",
    "print(longest_review)"
   ],
   "metadata": {
    "collapsed": false
   }
  },
  {
   "cell_type": "markdown",
   "source": [
    "Шаг № 8 блока «3.4 Тестирование по Pandas. Вторая часть»\n",
    "\n",
    "Определите среднее кол-во слов в отзыве. Ответ округлите до целого"
   ],
   "metadata": {
    "collapsed": false
   }
  },
  {
   "cell_type": "code",
   "execution_count": 9,
   "outputs": [
    {
     "name": "stdout",
     "output_type": "stream",
     "text": [
      "15\n"
     ]
    }
   ],
   "source": [
    "print(df['review'].str.split().str.len().mean().round().astype(int))"
   ],
   "metadata": {
    "collapsed": false
   }
  },
  {
   "cell_type": "markdown",
   "source": [
    "Шаг № 9 блока «3.4 Тестирование по Pandas. Вторая часть»\n",
    "\n",
    "Данные собирались в три шага, поэтому в колонке crawled_at три разных значения, напишите самую раннюю дату оттуда в формате:\n",
    "\n",
    "2019-11-29"
   ],
   "metadata": {
    "collapsed": false
   }
  },
  {
   "cell_type": "code",
   "execution_count": 10,
   "outputs": [
    {
     "name": "stdout",
     "output_type": "stream",
     "text": [
      "2021-02-20\n"
     ]
    }
   ],
   "source": [
    "df['crawled_at'] = pd.to_datetime(df['crawled_at'])\n",
    "print(df['crawled_at'].min().strftime('%Y-%m-%d'))"
   ],
   "metadata": {
    "collapsed": false
   }
  },
  {
   "cell_type": "markdown",
   "source": [
    "Шаг № 10 блока «3.4 Тестирование по Pandas. Вторая часть»\n",
    "\n",
    "На каком из этапов данных было собрано больше всего (колонка crawled_at)"
   ],
   "metadata": {
    "collapsed": false
   }
  },
  {
   "cell_type": "code",
   "execution_count": 11,
   "outputs": [
    {
     "name": "stdout",
     "output_type": "stream",
     "text": [
      "2021-02-21 10:15:44\n"
     ]
    }
   ],
   "source": [
    "print(df.groupby('crawled_at').size().idxmax())"
   ],
   "metadata": {
    "collapsed": false
   }
  },
  {
   "cell_type": "markdown",
   "source": [
    "Шаг № 11 блока «3.4 Тестирование по Pandas. Вторая часть»\n",
    "\n",
    "Определите медианную оценку для приложения talking-tom-cat-2"
   ],
   "metadata": {
    "collapsed": false
   }
  },
  {
   "cell_type": "code",
   "execution_count": 12,
   "outputs": [
    {
     "name": "stdout",
     "output_type": "stream",
     "text": [
      "5\n"
     ]
    }
   ],
   "source": [
    "df_new = df[df['app_name'] == 'talking-tom-cat-2']\n",
    "print(df_new['rating'].median().astype(int))"
   ],
   "metadata": {
    "collapsed": false
   }
  }
 ],
 "metadata": {
  "kernelspec": {
   "display_name": "Python 3",
   "language": "python",
   "name": "python3"
  },
  "language_info": {
   "codemirror_mode": {
    "name": "ipython",
    "version": 2
   },
   "file_extension": ".py",
   "mimetype": "text/x-python",
   "name": "python",
   "nbconvert_exporter": "python",
   "pygments_lexer": "ipython2",
   "version": "2.7.6"
  }
 },
 "nbformat": 4,
 "nbformat_minor": 0
}
