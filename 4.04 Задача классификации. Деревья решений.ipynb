{
 "cells": [
  {
   "cell_type": "code",
   "execution_count": 1,
   "metadata": {
    "collapsed": true
   },
   "outputs": [],
   "source": [
    "import numpy as np\n",
    "import pandas as pd\n",
    "from sklearn import tree"
   ]
  },
  {
   "cell_type": "markdown",
   "source": [
    "Шаг № 1 блока «4.4 Задача классификации. Деревья решений»\n",
    "\n",
    "Для данного датасета обучите дерево решений (для обучения используйте массивы с ключами x, y), затем предскажите классы для данных доступных в файле по ключу x_test.\n",
    "\n",
    "В качестве ответа запишите метку класса - 1 или 0"
   ],
   "metadata": {
    "collapsed": false
   }
  },
  {
   "cell_type": "code",
   "execution_count": 2,
   "outputs": [
    {
     "name": "stdout",
     "output_type": "stream",
     "text": [
      "[1 1 0 1 1 1 0 1 0 1]\n"
     ]
    }
   ],
   "source": [
    "train_data = np.load('train_data.npz')\n",
    "\n",
    "x = pd.DataFrame(train_data['x'])\n",
    "y = pd.DataFrame(train_data['y'])\n",
    "\n",
    "x_test = pd.DataFrame(train_data['x_test'])\n",
    "\n",
    "correlation = 0.9\n",
    "\n",
    "df = x[x.corr() > correlation].fillna(0)\n",
    "\n",
    "df_test = x_test[x_test.corr() > correlation].fillna(0)\n",
    "\n",
    "classification = tree.DecisionTreeClassifier().fit(df, y)\n",
    "\n",
    "print(classification.predict(df_test))"
   ],
   "metadata": {
    "collapsed": false
   }
  }
 ],
 "metadata": {
  "kernelspec": {
   "display_name": "Python 3",
   "language": "python",
   "name": "python3"
  },
  "language_info": {
   "codemirror_mode": {
    "name": "ipython",
    "version": 2
   },
   "file_extension": ".py",
   "mimetype": "text/x-python",
   "name": "python",
   "nbconvert_exporter": "python",
   "pygments_lexer": "ipython2",
   "version": "2.7.6"
  }
 },
 "nbformat": 4,
 "nbformat_minor": 0
}
