{
 "cells": [
  {
   "cell_type": "markdown",
   "source": [
    "Шаг № 1 блока «4.7 Задача классификации для картинок»\n",
    "\n",
    "Обучите модель на данных датасета mnist распознавать рукописные цифры\n",
    "(x_train, y_train), (x_test, y_test) = mnist.load_data()\n",
    "Затем, нарисуйте в Paint свою \"цифру\" и передайте ее модели. Для этого картинку нужно будет:\n",
    "\n",
    "* сжать до 28 на 28\n",
    "\n",
    "* перевести в черно-белый формат\n",
    "\n",
    "* инвертировать (так как в датасете фон черный)\n",
    "\n",
    "* преобразовать в одномерный формат и передать модели\n",
    "\n",
    "(10 баллов)"
   ],
   "metadata": {
    "collapsed": false
   }
  },
  {
   "cell_type": "code",
   "execution_count": 2,
   "outputs": [],
   "source": [
    "from keras.datasets import mnist\n",
    "from sklearn.ensemble import RandomForestClassifier\n",
    "from sklearn.metrics import accuracy_score\n",
    "import cv2"
   ],
   "metadata": {
    "collapsed": false
   }
  },
  {
   "cell_type": "markdown",
   "source": [
    "Загрузим данные из датасета mnist"
   ],
   "metadata": {
    "collapsed": false
   }
  },
  {
   "cell_type": "code",
   "execution_count": 3,
   "outputs": [],
   "source": [
    "(x_train, y_train), (x_test, y_test) = mnist.load_data()\n",
    "\n",
    "# загружаем данные"
   ],
   "metadata": {
    "collapsed": false
   }
  },
  {
   "cell_type": "markdown",
   "source": [
    "Определим размерность выборок"
   ],
   "metadata": {
    "collapsed": false
   }
  },
  {
   "cell_type": "code",
   "execution_count": 4,
   "outputs": [
    {
     "name": "stdout",
     "output_type": "stream",
     "text": [
      "x_train shape: (60000, 28, 28)\n",
      "y_train shape: (60000,)\n",
      "x_test shape: (10000, 28, 28)\n",
      "y_test shape: (10000,)\n"
     ]
    }
   ],
   "source": [
    "print('x_train shape:', x_train.shape)\n",
    "print('y_train shape:', y_train.shape)\n",
    "print('x_test shape:', x_test.shape)\n",
    "print('y_test shape:', y_test.shape)\n",
    "\n",
    "# выводим размерность (формат матрицы) ..., где первый элемент кортежа - количество строк, а второй - количество столбцов"
   ],
   "metadata": {
    "collapsed": false
   }
  },
  {
   "cell_type": "markdown",
   "source": [
    "Произведем предобработку тренировочных и тестовых данных"
   ],
   "metadata": {
    "collapsed": false
   }
  },
  {
   "cell_type": "code",
   "execution_count": 5,
   "outputs": [],
   "source": [
    "x_train = x_train.reshape(60000, 28*28)\n",
    "x_test = x_test.reshape(10000, 28*28)\n",
    "\n",
    "# изменяем размерность данных из 28*28 в 1x784."
   ],
   "metadata": {
    "collapsed": false
   }
  },
  {
   "cell_type": "markdown",
   "source": [
    "При помощи модели RandomForestClassifier решим задачу классификации для картинок и проверим качество модели"
   ],
   "metadata": {
    "collapsed": false
   }
  },
  {
   "cell_type": "code",
   "execution_count": 6,
   "outputs": [
    {
     "name": "stdout",
     "output_type": "stream",
     "text": [
      "Accuracy score: 96.99%\n"
     ]
    }
   ],
   "source": [
    "model = RandomForestClassifier()\n",
    "model.fit(x_train, y_train)\n",
    "y_pred = model.predict(x_test)\n",
    "print(f'Accuracy score: {round((accuracy_score(y_test, y_pred) * 100), 2)}%')"
   ],
   "metadata": {
    "collapsed": false
   }
  },
  {
   "cell_type": "markdown",
   "source": [
    "Проверка модели № 1:\n",
    "Загрузим созданное в paint изображение (нарисованная цифра 3) и передадим нарисованную цифру модели"
   ],
   "metadata": {
    "collapsed": false
   }
  },
  {
   "cell_type": "code",
   "execution_count": 7,
   "outputs": [
    {
     "name": "stdout",
     "output_type": "stream",
     "text": [
      "Real digit: 3\n",
      "Predicted digit: 3\n"
     ]
    }
   ],
   "source": [
    "img = cv2.imread('img3.png', cv2.IMREAD_GRAYSCALE)  # 'cv2.IMREAD_GRAYSCALE` преобразует цветное изображение в оттенки серого\n",
    "\n",
    "img = cv2.resize(img, (28,28)) # изменяет размер изображения до 28 на 28 пикселей\n",
    "\n",
    "img = cv2.bitwise_not(img)  #  инвертирует черные и белые пиксели в изображении\n",
    "\n",
    "img = img.reshape(-1)  # преобразует 2D-массив изображения в одномерный массив, что позволяет передать его в качестве входных данных для модели машинного обучения, которая ожидает одномерный массив признаков\n",
    "\n",
    "digit = model.predict(img.reshape(1,-1))[0]  # предсказывает произвольное изображение, передав его как одномерный массив в модель, которая научилась распознавать цифры.\n",
    "\n",
    "print(f\"Real digit: 3\\nPredicted digit: {digit}\")"
   ],
   "metadata": {
    "collapsed": false
   }
  },
  {
   "cell_type": "markdown",
   "source": [
    "Проверка модели № 2:\n",
    "Загрузим созданное в paint изображение (нарисованная цифра 5) и передадим нарисованную цифру модели"
   ],
   "metadata": {
    "collapsed": false
   }
  },
  {
   "cell_type": "code",
   "execution_count": 8,
   "outputs": [
    {
     "name": "stdout",
     "output_type": "stream",
     "text": [
      "Real digit: 5\n",
      "Predicted digit: 5\n"
     ]
    }
   ],
   "source": [
    "img = cv2.imread('img5.png', cv2.IMREAD_GRAYSCALE)\n",
    "img = cv2.resize(img, (28,28))\n",
    "img = cv2.bitwise_not(img)\n",
    "img = img.reshape(-1)\n",
    "digit = model.predict(img.reshape(1,-1))[0]\n",
    "print(f\"Real digit: 5\\nPredicted digit: {digit}\")"
   ],
   "metadata": {
    "collapsed": false
   }
  }
 ],
 "metadata": {
  "kernelspec": {
   "display_name": "Python 3",
   "language": "python",
   "name": "python3"
  },
  "language_info": {
   "codemirror_mode": {
    "name": "ipython",
    "version": 2
   },
   "file_extension": ".py",
   "mimetype": "text/x-python",
   "name": "python",
   "nbconvert_exporter": "python",
   "pygments_lexer": "ipython2",
   "version": "2.7.6"
  }
 },
 "nbformat": 4,
 "nbformat_minor": 0
}
