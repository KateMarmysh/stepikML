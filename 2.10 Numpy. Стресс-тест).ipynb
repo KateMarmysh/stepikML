{
 "cells": [
  {
   "cell_type": "code",
   "execution_count": 1,
   "outputs": [],
   "source": [
    "import numpy as np"
   ],
   "metadata": {
    "collapsed": false
   }
  },
  {
   "cell_type": "markdown",
   "source": [
    "Шаг № 1 блока «2.10 Numpy. Стресс-тест)»\n",
    "\n",
    "По файлу определите среднее арифметическое в первой, двадцатой и последней колонке. Числа округлите до целого и запишите через пробел"
   ],
   "metadata": {
    "collapsed": false
   }
  },
  {
   "cell_type": "code",
   "execution_count": 2,
   "outputs": [
    {
     "name": "stdout",
     "output_type": "stream",
     "text": [
      "49 49 50\n"
     ]
    }
   ],
   "source": [
    "url = 'https://raw.githubusercontent.com/bykov-alexei/data-science-course/master/Numpy/array.txt'\n",
    "data = np.loadtxt(url, usecols=(0, 19, -1), delimiter=' ', dtype=float)\n",
    "print(*data.mean(axis=0).astype(int))"
   ],
   "metadata": {
    "collapsed": false
   }
  },
  {
   "cell_type": "markdown",
   "source": [
    "Шаг № 2 блока «2.10 Numpy. Стресс-тест)»\n",
    "\n",
    "По файлу определите среднее арифметическое в первой, тридцатой и последней строчке. Числа округлите до целого и запишите через пробел"
   ],
   "metadata": {
    "collapsed": false
   }
  },
  {
   "cell_type": "code",
   "execution_count": 3,
   "outputs": [
    {
     "name": "stdout",
     "output_type": "stream",
     "text": [
      "50 49 49\n"
     ]
    }
   ],
   "source": [
    "data = np.load('array2.npy')\n",
    "print(int(np.mean(data[0])), int(np.mean(data[30])), int(np.mean(data[-1])))"
   ],
   "metadata": {
    "collapsed": false
   }
  },
  {
   "cell_type": "markdown",
   "source": [
    "Шаг № 3 блока «2.10 Numpy. Стресс-тест)»\n",
    "\n",
    "В файле содержится информация о избирателях некоторого округа, записанные в три массива names, surnames и ages. Определите кол-во уникальных имён содержащихся в файле"
   ],
   "metadata": {
    "collapsed": false
   }
  },
  {
   "cell_type": "markdown",
   "source": [
    "Первый вариант решения:"
   ],
   "metadata": {
    "collapsed": false
   }
  },
  {
   "cell_type": "code",
   "execution_count": 4,
   "outputs": [
    {
     "name": "stdout",
     "output_type": "stream",
     "text": [
      "9\n"
     ]
    }
   ],
   "source": [
    "data = np.load('data.npz')\n",
    "x = set(data['names'])\n",
    "print(len(x))"
   ],
   "metadata": {
    "collapsed": false
   }
  },
  {
   "cell_type": "markdown",
   "source": [
    "Второй вариант решения:"
   ],
   "metadata": {
    "collapsed": false
   }
  },
  {
   "cell_type": "code",
   "execution_count": 5,
   "outputs": [
    {
     "name": "stdout",
     "output_type": "stream",
     "text": [
      "9\n"
     ]
    }
   ],
   "source": [
    "data = np.load('data.npz')\n",
    "print(len(np.unique(data['names'])))"
   ],
   "metadata": {
    "collapsed": false
   }
  },
  {
   "cell_type": "markdown",
   "source": [
    "Шаг № 4 блока «2.10 Numpy. Стресс-тест)»\n",
    "\n",
    "В файле содержится информация о избирателях некоторого округа, записанные в три массива names, surnames и ages. Определите кол-во избирателей старше 50 лет"
   ],
   "metadata": {
    "collapsed": false
   }
  },
  {
   "cell_type": "markdown",
   "source": [
    "Первый вариант решения:"
   ],
   "metadata": {
    "collapsed": false
   }
  },
  {
   "cell_type": "code",
   "execution_count": 6,
   "outputs": [
    {
     "name": "stdout",
     "output_type": "stream",
     "text": [
      "535\n"
     ]
    }
   ],
   "source": [
    "x = 0\n",
    "data = np.load('data.npz')\n",
    "for _ in data['ages']:\n",
    "    if _ > 50:\n",
    "        x += 1\n",
    "print(x)"
   ],
   "metadata": {
    "collapsed": false
   }
  },
  {
   "cell_type": "markdown",
   "source": [
    "Второй вариант решения:"
   ],
   "metadata": {
    "collapsed": false
   }
  },
  {
   "cell_type": "code",
   "execution_count": 7,
   "outputs": [
    {
     "name": "stdout",
     "output_type": "stream",
     "text": [
      "535\n"
     ]
    }
   ],
   "source": [
    "data = np.load('data.npz')\n",
    "print(len(data['ages'][data['ages'] > 50]))"
   ],
   "metadata": {
    "collapsed": false
   }
  },
  {
   "cell_type": "markdown",
   "source": [
    "Шаг № 5 блока «2.10 Numpy. Стресс-тест)»\n",
    "\n",
    "В файле содержится информация о избирателях некоторого округа, записанные в три массива names, surnames и ages. Определите кол-во избирателей c фамилией Smith, именем John и возрастом младше 40."
   ],
   "metadata": {
    "collapsed": false
   }
  },
  {
   "cell_type": "markdown",
   "source": [
    "Первый вариант решения:"
   ],
   "metadata": {
    "collapsed": false
   }
  },
  {
   "cell_type": "code",
   "execution_count": 8,
   "outputs": [
    {
     "name": "stdout",
     "output_type": "stream",
     "text": [
      "3\n"
     ]
    }
   ],
   "source": [
    "data = np.load('data.npz')\n",
    "print(sum((data['ages'] < 40) & (data['names'] == 'John') & (data['surnames'] == 'Smith')))"
   ],
   "metadata": {
    "collapsed": false
   }
  },
  {
   "cell_type": "markdown",
   "source": [
    "Второй вариант решения:"
   ],
   "metadata": {
    "collapsed": false
   }
  },
  {
   "cell_type": "code",
   "execution_count": 9,
   "outputs": [
    {
     "name": "stdout",
     "output_type": "stream",
     "text": [
      "3\n"
     ]
    }
   ],
   "source": [
    "data = np.load('data.npz')\n",
    "print(np.where((40 > data['ages']) & (data['names'] == 'John')& (data['surnames'] == 'Smith'), 1, 0).sum())"
   ],
   "metadata": {
    "collapsed": false
   }
  }
 ],
 "metadata": {
  "kernelspec": {
   "display_name": "Python 3",
   "language": "python",
   "name": "python3"
  },
  "language_info": {
   "codemirror_mode": {
    "name": "ipython",
    "version": 2
   },
   "file_extension": ".py",
   "mimetype": "text/x-python",
   "name": "python",
   "nbconvert_exporter": "python",
   "pygments_lexer": "ipython2",
   "version": "2.7.6"
  }
 },
 "nbformat": 4,
 "nbformat_minor": 0
}
