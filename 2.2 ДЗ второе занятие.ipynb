{
 "cells": [
  {
   "cell_type": "code",
   "execution_count": 1,
   "outputs": [],
   "source": [
    "import pandas as pd"
   ],
   "metadata": {
    "collapsed": false
   }
  },
  {
   "cell_type": "markdown",
   "source": [
    "Шаг № 1 блока «2.2 ДЗ второе занятие»\n",
    "\n",
    "В csv файле содержатся данные о пассажирах Титаника. По файлу посчитайте средний возраст пассажиров округленный до целого числа.\n",
    "\n",
    "В файле есть пропущенные значения, их не учитываем. Также в файле не все числа целые, их не округляем."
   ],
   "metadata": {
    "collapsed": false
   }
  },
  {
   "cell_type": "code",
   "execution_count": 2,
   "outputs": [
    {
     "name": "stdout",
     "output_type": "stream",
     "text": [
      "30\n"
     ]
    }
   ],
   "source": [
    "url = 'https://raw.githubusercontent.com/bykov-alexei/data-science-course/master/Python3/titanic_train.csv'\n",
    "print(round(pd.read_csv(url).Age.mean()))"
   ],
   "metadata": {
    "collapsed": false
   }
  },
  {
   "cell_type": "markdown",
   "source": [
    "Шаг № 2 блока «2.2 ДЗ второе занятие»\n",
    "\n",
    "По тем же файлам, посчитайте кол-во пассажиров в каждом из классов (колонка PClass)"
   ],
   "metadata": {
    "collapsed": false
   }
  },
  {
   "cell_type": "markdown",
   "source": [
    "Первый вариант решения:"
   ],
   "metadata": {
    "collapsed": false
   }
  },
  {
   "cell_type": "code",
   "execution_count": 3,
   "outputs": [
    {
     "name": "stdout",
     "output_type": "stream",
     "text": [
      "3    491\n",
      "1    216\n",
      "2    184\n",
      "Name: Pclass, dtype: int64\n"
     ]
    }
   ],
   "source": [
    "url = 'https://raw.githubusercontent.com/bykov-alexei/data-science-course/master/Python3/titanic_train.csv'\n",
    "print(pd.read_csv(url).Pclass.value_counts())"
   ],
   "metadata": {
    "collapsed": false
   }
  },
  {
   "cell_type": "markdown",
   "source": [
    "Второй вариант решения:"
   ],
   "metadata": {
    "collapsed": false
   }
  },
  {
   "cell_type": "code",
   "execution_count": 4,
   "outputs": [
    {
     "name": "stdout",
     "output_type": "stream",
     "text": [
      "Кол-во пассажиров первого класса 216 Кол-во пассажиров второго класса 184 Кол-во пассажиров третьего класса 491\n"
     ]
    }
   ],
   "source": [
    "url = 'https://raw.githubusercontent.com/bykov-alexei/data-science-course/master/Python3/titanic_train.csv'\n",
    "df = pd.read_csv(url)\n",
    "a = df[df['Pclass'] == 1].PassengerId.count()\n",
    "b = df[df['Pclass'] == 2].PassengerId.count()\n",
    "c = df[df['Pclass'] == 3].PassengerId.count()\n",
    "print(f'Кол-во пассажиров первого класса {a} '\n",
    "      f'Кол-во пассажиров второго класса {b} '\n",
    "      f'Кол-во пассажиров третьего класса {c}')"
   ],
   "metadata": {
    "collapsed": false
   }
  }
 ],
 "metadata": {
  "kernelspec": {
   "display_name": "Python 3",
   "language": "python",
   "name": "python3"
  },
  "language_info": {
   "codemirror_mode": {
    "name": "ipython",
    "version": 2
   },
   "file_extension": ".py",
   "mimetype": "text/x-python",
   "name": "python",
   "nbconvert_exporter": "python",
   "pygments_lexer": "ipython2",
   "version": "2.7.6"
  }
 },
 "nbformat": 4,
 "nbformat_minor": 0
}
