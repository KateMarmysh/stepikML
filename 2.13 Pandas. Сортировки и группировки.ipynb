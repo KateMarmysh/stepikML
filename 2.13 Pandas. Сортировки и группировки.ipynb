{
 "cells": [
  {
   "cell_type": "code",
   "execution_count": 1,
   "metadata": {
    "collapsed": true
   },
   "outputs": [],
   "source": [
    "import pandas as pd"
   ]
  },
  {
   "cell_type": "markdown",
   "source": [
    "Шаг № 1 блока «2.13 Pandas. Сортировки и группировки»\n",
    "\n",
    "В файле содержатся отзывы на вина. Подробно о содержании колонок можно посмотреть тут.\n",
    "\n",
    "Ваша задача найти самое дорогое вино в данных (колонка price) и указать винодельню где оно было произведено (колонка winery)"
   ],
   "metadata": {
    "collapsed": false
   }
  },
  {
   "cell_type": "markdown",
   "source": [
    "Первый вариант решения:"
   ],
   "metadata": {
    "collapsed": false
   }
  },
  {
   "cell_type": "code",
   "execution_count": 2,
   "outputs": [
    {
     "name": "stdout",
     "output_type": "stream",
     "text": [
      "Château les Ormes Sorbet\n"
     ]
    }
   ],
   "source": [
    "df = pd.read_csv('https://raw.githubusercontent.com/bykov-alexei/data-science-course/master/Pandas/wines.csv')\n",
    "max_price = df['price'].max()\n",
    "max_row = df[df['price'] == max_price]\n",
    "print(*max_row['winery'])"
   ],
   "metadata": {
    "collapsed": false
   }
  },
  {
   "cell_type": "markdown",
   "source": [
    "Второй вариант решения:"
   ],
   "metadata": {
    "collapsed": false
   }
  },
  {
   "cell_type": "code",
   "execution_count": 3,
   "outputs": [
    {
     "name": "stdout",
     "output_type": "stream",
     "text": [
      "Château les Ormes Sorbet\n"
     ]
    }
   ],
   "source": [
    "df = pd.read_csv('https://raw.githubusercontent.com/bykov-alexei/data-science-course/master/Pandas/wines.csv')\n",
    "print(df.loc[df.price.idxmax()].winery)"
   ],
   "metadata": {
    "collapsed": false
   }
  },
  {
   "cell_type": "markdown",
   "source": [
    "Шаг № 2 блока «2.13 Pandas. Сортировки и группировки»\n",
    "\n",
    "В файле содержатся отзывы на вина. Подробно о содержании колонок можно посмотреть тут.\n",
    "\n",
    "Ваша задача найти кол-во отзывов на вина из Израиля (колонка country, название Israel)"
   ],
   "metadata": {
    "collapsed": false
   }
  },
  {
   "cell_type": "markdown",
   "source": [
    "Первый вариант решения:"
   ],
   "metadata": {
    "collapsed": false
   }
  },
  {
   "cell_type": "code",
   "execution_count": 4,
   "outputs": [
    {
     "name": "stdout",
     "output_type": "stream",
     "text": [
      "505\n"
     ]
    }
   ],
   "source": [
    "df = pd.read_csv('https://raw.githubusercontent.com/bykov-alexei/data-science-course/master/Pandas/wines.csv')\n",
    "Israel_rows = df[df['country'] == 'Israel']\n",
    "print(len(Israel_rows))"
   ],
   "metadata": {
    "collapsed": false
   }
  },
  {
   "cell_type": "markdown",
   "source": [
    "Второй вариант решения:"
   ],
   "metadata": {
    "collapsed": false
   }
  },
  {
   "cell_type": "code",
   "execution_count": 5,
   "outputs": [
    {
     "name": "stdout",
     "output_type": "stream",
     "text": [
      "505\n"
     ]
    }
   ],
   "source": [
    "df = pd.read_csv('https://raw.githubusercontent.com/bykov-alexei/data-science-course/master/Pandas/wines.csv')\n",
    "print(df[df['country'] == 'Israel'].country.count())"
   ],
   "metadata": {
    "collapsed": false
   }
  },
  {
   "cell_type": "markdown",
   "source": [
    "Шаг № 3 блока «2.13 Pandas. Сортировки и группировки»\n",
    "\n",
    "В файле содержатся отзывы на вина. Подробно о содержании колонок можно посмотреть тут.\n",
    "\n",
    "Ваша задача найти среднюю оценку вин (колонка points) для страны Италии (колонка country). Ответ округлите до целого"
   ],
   "metadata": {
    "collapsed": false
   }
  },
  {
   "cell_type": "code",
   "execution_count": 6,
   "outputs": [
    {
     "name": "stdout",
     "output_type": "stream",
     "text": [
      "89\n"
     ]
    }
   ],
   "source": [
    "df = pd.read_csv('https://raw.githubusercontent.com/bykov-alexei/data-science-course/master/Pandas/wines.csv')\n",
    "Italy_rows = df[df['country'] == 'Italy']\n",
    "print(Italy_rows.points.mean().round().astype(int))"
   ],
   "metadata": {
    "collapsed": false
   }
  },
  {
   "cell_type": "markdown",
   "source": [
    "Шаг № 4 блока «2.13 Pandas. Сортировки и группировки»\n",
    "\n",
    "В файле содержатся отзывы на вина. Подробно о содержании колонок можно посмотреть тут.\n",
    "\n",
    "Ваша задача найти на вина из какой страны в данных содержится больше всего отзывов."
   ],
   "metadata": {
    "collapsed": false
   }
  },
  {
   "cell_type": "code",
   "execution_count": 7,
   "outputs": [
    {
     "name": "stdout",
     "output_type": "stream",
     "text": [
      "US\n"
     ]
    }
   ],
   "source": [
    "df = pd.read_csv('https://raw.githubusercontent.com/bykov-alexei/data-science-course/master/Pandas/wines.csv')\n",
    "print(df.groupby('country').description.count().idxmax())"
   ],
   "metadata": {
    "collapsed": false
   }
  },
  {
   "cell_type": "markdown",
   "source": [
    "Шаг № 5 блока «2.13 Pandas. Сортировки и группировки»\n",
    "\n",
    "В файле содержатся отзывы на вина. Подробно о содержании колонок можно посмотреть тут.\n",
    "\n",
    "Ваша задача найти на вина из какой страны в данных содержится ровно 109 отзывов."
   ],
   "metadata": {
    "collapsed": false
   }
  },
  {
   "cell_type": "code",
   "execution_count": 8,
   "outputs": [
    {
     "name": "stdout",
     "output_type": "stream",
     "text": [
      "Uruguay\n"
     ]
    }
   ],
   "source": [
    "df = pd.read_csv('https://raw.githubusercontent.com/bykov-alexei/data-science-course/master/Pandas/wines.csv')\n",
    "df_new = df.country.value_counts()\n",
    "print(*df_new.index[df.country.value_counts() == 109])"
   ],
   "metadata": {
    "collapsed": false
   }
  },
  {
   "cell_type": "markdown",
   "source": [
    "Шаг № 6 блока «2.13 Pandas. Сортировки и группировки»\n",
    "\n",
    "В файле содержатся отзывы на вина. Подробно о содержании колонок можно посмотреть тут.\n",
    "\n",
    "Ваша задача найти регион Франции (колонки country и province), на вина которого в данных меньше всего отзывов."
   ],
   "metadata": {
    "collapsed": false
   }
  },
  {
   "cell_type": "markdown",
   "source": [
    "Первый вариант решения:"
   ],
   "metadata": {
    "collapsed": false
   }
  },
  {
   "cell_type": "code",
   "execution_count": 9,
   "outputs": [
    {
     "name": "stdout",
     "output_type": "stream",
     "text": [
      "Languedoc-Roussillon\n"
     ]
    }
   ],
   "source": [
    "df = pd.read_csv('https://raw.githubusercontent.com/bykov-alexei/data-science-course/master/Pandas/wines.csv')\n",
    "df_new = df[df['country'] == 'France']\n",
    "print(df_new.groupby('province').description.count().idxmin())"
   ],
   "metadata": {
    "collapsed": false
   }
  },
  {
   "cell_type": "markdown",
   "source": [
    "Второй вариант решения:"
   ],
   "metadata": {
    "collapsed": false
   }
  },
  {
   "cell_type": "code",
   "execution_count": 10,
   "outputs": [
    {
     "name": "stdout",
     "output_type": "stream",
     "text": [
      "Languedoc-Roussillon\n"
     ]
    }
   ],
   "source": [
    "df = pd.read_csv('https://raw.githubusercontent.com/bykov-alexei/data-science-course/master/Pandas/wines.csv')\n",
    "df_new = df[df['country'] == 'France']\n",
    "print(df_new.groupby('province').size().idxmin())"
   ],
   "metadata": {
    "collapsed": false
   }
  },
  {
   "cell_type": "markdown",
   "source": [
    "Шаг № 7 блока «2.13 Pandas. Сортировки и группировки»\n",
    "\n",
    "В файле содержатся отзывы на вина. Подробно о содержании колонок можно посмотреть тут.\n",
    "\n",
    "Ваша задача найти страну и регион (колонка province), для вин которого средняя оценка (колонка points) наибольшая. Запишите их через запятую, как в примере\n",
    "\n",
    "France, Bordeaux"
   ],
   "metadata": {
    "collapsed": false
   }
  },
  {
   "cell_type": "code",
   "execution_count": 11,
   "outputs": [
    {
     "name": "stdout",
     "output_type": "stream",
     "text": [
      "Austria, Südburgenland\n"
     ]
    }
   ],
   "source": [
    "df = pd.read_csv('https://raw.githubusercontent.com/bykov-alexei/data-science-course/master/Pandas/wines.csv')\n",
    "print(*df.groupby(['country', \"province\"]).points.mean().round().idxmax(), sep=', ')"
   ],
   "metadata": {
    "collapsed": false
   }
  },
  {
   "cell_type": "markdown",
   "source": [
    "Шаг № 8 блока «2.13 Pandas. Сортировки и группировки»\n",
    "\n",
    "В файле содержатся отзывы на вина. Подробно о содержании колонок можно посмотреть тут.\n",
    "\n",
    "Ваша задача найти кол-во стран, вина которых никогда не получали 95 и более балов."
   ],
   "metadata": {
    "collapsed": false
   }
  },
  {
   "cell_type": "code",
   "execution_count": 12,
   "outputs": [
    {
     "name": "stdout",
     "output_type": "stream",
     "text": [
      "29\n"
     ]
    }
   ],
   "source": [
    "df = pd.read_csv('https://raw.githubusercontent.com/bykov-alexei/data-science-course/master/Pandas/wines.csv')\n",
    "max_points = df.groupby('country')['points'].max()\n",
    "print(max_points[max_points < 95].count())"
   ],
   "metadata": {
    "collapsed": false
   }
  },
  {
   "cell_type": "markdown",
   "source": [
    "Шаг № 9 блока «2.13 Pandas. Сортировки и группировки»\n",
    "\n",
    "В файле содержатся отзывы на вина. Подробно о содержании колонок можно посмотреть тут.\n",
    "\n",
    "Ваша задача найти самого строгого оценщика (колонка taster_name), т.е. того, у которого средняя оценка минимальная."
   ],
   "metadata": {
    "collapsed": false
   }
  },
  {
   "cell_type": "code",
   "execution_count": 13,
   "outputs": [
    {
     "name": "stdout",
     "output_type": "stream",
     "text": [
      "Alexander Peartree\n"
     ]
    }
   ],
   "source": [
    "df = pd.read_csv('https://raw.githubusercontent.com/bykov-alexei/data-science-course/master/Pandas/wines.csv')\n",
    "print(df.groupby('taster_name').points.mean().round().idxmin())"
   ],
   "metadata": {
    "collapsed": false
   }
  },
  {
   "cell_type": "markdown",
   "source": [
    "Шаг № 10 блока «2.13 Pandas. Сортировки и группировки»\n",
    "\n",
    "В файле содержатся отзывы на вина. Подробно о содержании колонок можно посмотреть тут.\n",
    "\n",
    "Ваша задача найти вина каких трех стран, понравились критику Roger Voss больше всего. Запишите через запятую в порядке убывания средней оценки.\n",
    "\n",
    "France, Russia, United Kingdom"
   ],
   "metadata": {
    "collapsed": false
   }
  },
  {
   "cell_type": "code",
   "execution_count": 14,
   "outputs": [
    {
     "name": "stdout",
     "output_type": "stream",
     "text": [
      "US, Austria, South Africa\n"
     ]
    }
   ],
   "source": [
    "df = pd.read_csv('https://raw.githubusercontent.com/bykov-alexei/data-science-course/master/Pandas/wines.csv')\n",
    "df_new = df[df['taster_name'] == 'Roger Voss']\n",
    "mean_points = df_new.groupby('country').points.mean().sort_values(ascending=False).head(3)\n",
    "print(*mean_points.index, sep=', ')"
   ],
   "metadata": {
    "collapsed": false
   }
  }
 ],
 "metadata": {
  "kernelspec": {
   "display_name": "Python 3",
   "language": "python",
   "name": "python3"
  },
  "language_info": {
   "codemirror_mode": {
    "name": "ipython",
    "version": 2
   },
   "file_extension": ".py",
   "mimetype": "text/x-python",
   "name": "python",
   "nbconvert_exporter": "python",
   "pygments_lexer": "ipython2",
   "version": "2.7.6"
  }
 },
 "nbformat": 4,
 "nbformat_minor": 0
}
