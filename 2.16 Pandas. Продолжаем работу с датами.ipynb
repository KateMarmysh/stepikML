{
 "cells": [
  {
   "cell_type": "code",
   "execution_count": 1,
   "outputs": [],
   "source": [
    "import pandas as pd"
   ],
   "metadata": {
    "collapsed": false
   }
  },
  {
   "cell_type": "markdown",
   "source": [
    "Шаг № 2 блока «2.16 Pandas. Продолжаем работу с датами»\n",
    "\n",
    "По файлу определите кол-во видов товаров в булочной"
   ],
   "metadata": {
    "collapsed": false
   }
  },
  {
   "cell_type": "markdown",
   "source": [
    "Первый вариант решения:"
   ],
   "metadata": {
    "collapsed": false
   }
  },
  {
   "cell_type": "code",
   "execution_count": 2,
   "outputs": [
    {
     "name": "stdout",
     "output_type": "stream",
     "text": [
      "94\n"
     ]
    }
   ],
   "source": [
    "url = 'https://raw.githubusercontent.com/bykov-alexei/data-science-course/master/Pandas/bakery.csv'\n",
    "df = pd.read_csv(url)\n",
    "print(df.Items.value_counts().count())"
   ],
   "metadata": {
    "collapsed": false
   }
  },
  {
   "cell_type": "markdown",
   "source": [
    "Второй вариант решения:"
   ],
   "metadata": {
    "collapsed": false
   }
  },
  {
   "cell_type": "code",
   "execution_count": 3,
   "outputs": [
    {
     "name": "stdout",
     "output_type": "stream",
     "text": [
      "94\n"
     ]
    }
   ],
   "source": [
    "url = 'https://raw.githubusercontent.com/bykov-alexei/data-science-course/master/Pandas/bakery.csv'\n",
    "df = pd.read_csv(url)\n",
    "print(df.groupby('Items').size().count())"
   ],
   "metadata": {
    "collapsed": false
   }
  },
  {
   "cell_type": "markdown",
   "source": [
    "Шаг № 3 блока «2.16 Pandas. Продолжаем работу с датами»\n",
    "\n",
    "По файлу определите сколько чая (Tea) было продано в булочной за все время"
   ],
   "metadata": {
    "collapsed": false
   }
  },
  {
   "cell_type": "code",
   "execution_count": 4,
   "outputs": [
    {
     "name": "stdout",
     "output_type": "stream",
     "text": [
      "1435\n"
     ]
    }
   ],
   "source": [
    "url = 'https://raw.githubusercontent.com/bykov-alexei/data-science-course/master/Pandas/bakery.csv'\n",
    "df = pd.read_csv(url)\n",
    "print(df[df['Items'] == 'Tea'].Items.count())"
   ],
   "metadata": {
    "collapsed": false
   }
  },
  {
   "cell_type": "markdown",
   "source": [
    "Шаг № 4 блока «2.16 Pandas. Продолжаем работу с датами»\n",
    "\n",
    "По файлу определите сколько покупок было совершено первого мая 2017 года.\n",
    "\n",
    "Кол-во покупок != кол-во строк\n",
    "\n",
    "Кол-во покупок == Кол-во уникальных значений TransactionNo"
   ],
   "metadata": {
    "collapsed": false
   }
  },
  {
   "cell_type": "markdown",
   "source": [
    "Первый вариант решения:"
   ],
   "metadata": {
    "collapsed": false
   }
  },
  {
   "cell_type": "code",
   "execution_count": 5,
   "outputs": [
    {
     "name": "stdout",
     "output_type": "stream",
     "text": [
      "50\n"
     ]
    }
   ],
   "source": [
    "url = 'https://raw.githubusercontent.com/bykov-alexei/data-science-course/master/Pandas/bakery.csv'\n",
    "df = pd.read_csv(url)\n",
    "df_new = df[df['DateTime'].str.contains('2017-05-01')]\n",
    "print(df_new.TransactionNo.value_counts().count())"
   ],
   "metadata": {
    "collapsed": false
   }
  },
  {
   "cell_type": "markdown",
   "source": [
    "Второй вариант решения:"
   ],
   "metadata": {
    "collapsed": false
   }
  },
  {
   "cell_type": "code",
   "execution_count": 6,
   "outputs": [
    {
     "name": "stdout",
     "output_type": "stream",
     "text": [
      "50\n"
     ]
    }
   ],
   "source": [
    "url = 'https://raw.githubusercontent.com/bykov-alexei/data-science-course/master/Pandas/bakery.csv'\n",
    "df = pd.read_csv(url)\n",
    "df_new = df[df['DateTime'].str.contains('2017-05-01')]\n",
    "print(df_new.TransactionNo.nunique())"
   ],
   "metadata": {
    "collapsed": false
   }
  },
  {
   "cell_type": "markdown",
   "source": [
    "Шаг № 5 блока «2.16 Pandas. Продолжаем работу с датами»\n",
    "\n",
    "По файлу определите, сколько покупок было совершено в понедельники. Для этого:\n",
    "\n",
    "Преобразуйте колонку в тип datetime\n",
    "Создайте новую колонку, в которой будет информация о том, являлся ли день покупки понедельником\n",
    "Посчитайте кол-во уникальных значений в TransactionNo - это и будет кол-во покупок"
   ],
   "metadata": {
    "collapsed": false
   }
  },
  {
   "cell_type": "markdown",
   "source": [
    "Первый вариант решения:"
   ],
   "metadata": {
    "collapsed": false
   }
  },
  {
   "cell_type": "code",
   "execution_count": 7,
   "outputs": [
    {
     "name": "stdout",
     "output_type": "stream",
     "text": [
      "1441\n"
     ]
    }
   ],
   "source": [
    "url = 'https://raw.githubusercontent.com/bykov-alexei/data-science-course/master/Pandas/bakery.csv'\n",
    "df = pd.read_csv(url)\n",
    "df['DateTime'] = pd.to_datetime(df['DateTime'])\n",
    "df['Is_Monday'] = df['DateTime'].dt.dayofweek == 0\n",
    "print(df[df['Is_Monday'] == True]['TransactionNo'].nunique())"
   ],
   "metadata": {
    "collapsed": false
   }
  },
  {
   "cell_type": "markdown",
   "source": [
    "Второй вариант решения:"
   ],
   "metadata": {
    "collapsed": false
   }
  },
  {
   "cell_type": "code",
   "execution_count": 8,
   "outputs": [
    {
     "name": "stdout",
     "output_type": "stream",
     "text": [
      "1441\n"
     ]
    }
   ],
   "source": [
    "url = 'https://raw.githubusercontent.com/bykov-alexei/data-science-course/master/Pandas/bakery.csv'\n",
    "df = pd.read_csv(url)\n",
    "df['DateTime'] = pd.to_datetime(df['DateTime'])\n",
    "df['Is_Monday'] = df['DateTime'].dt.dayofweek == 0\n",
    "df_new = df[df['Is_Monday'] == True]\n",
    "print(df_new.TransactionNo.nunique())"
   ],
   "metadata": {
    "collapsed": false
   }
  },
  {
   "cell_type": "markdown",
   "source": [
    "Шаг № 6 блока «2.16 Pandas. Продолжаем работу с датами»\n",
    "\n",
    "По файлу определите, сколько покупок было совершено в выходные. Для этого:\n",
    "\n",
    "Преобразуйте колонку в тип datetime\n",
    "Создайте новую колонку, в которой будет информация о том, являлся ли день покупки выходным\n",
    "Посчитайте кол-во уникальных значений в TransactionNo - это и будет кол-во покупок"
   ],
   "metadata": {
    "collapsed": false
   }
  },
  {
   "cell_type": "markdown",
   "source": [
    "Первый вариант решения:"
   ],
   "metadata": {
    "collapsed": false
   }
  },
  {
   "cell_type": "code",
   "execution_count": 9,
   "outputs": [
    {
     "name": "stdout",
     "output_type": "stream",
     "text": [
      "2962\n"
     ]
    }
   ],
   "source": [
    "url = 'https://raw.githubusercontent.com/bykov-alexei/data-science-course/master/Pandas/bakery.csv'\n",
    "df = pd.read_csv(url)\n",
    "df['DateTime'] = pd.to_datetime(df['DateTime'])\n",
    "df['Is_Saturday'] = df['DateTime'].dt.dayofweek == 5\n",
    "df['Is_Sunday'] = df['DateTime'].dt.dayofweek == 6\n",
    "print(df[(df['Is_Saturday'] == True) | (df['Is_Sunday'] == True)].TransactionNo.nunique())"
   ],
   "metadata": {
    "collapsed": false
   }
  },
  {
   "cell_type": "markdown",
   "source": [
    "Второй вариант решения:"
   ],
   "metadata": {
    "collapsed": false
   }
  },
  {
   "cell_type": "code",
   "execution_count": 10,
   "outputs": [
    {
     "name": "stdout",
     "output_type": "stream",
     "text": [
      "2962\n"
     ]
    }
   ],
   "source": [
    "url = 'https://raw.githubusercontent.com/bykov-alexei/data-science-course/master/Pandas/bakery.csv'\n",
    "df = pd.read_csv(url)\n",
    "df['DateTime'] = pd.to_datetime(df['DateTime'])\n",
    "print(df[df['DateTime'].dt.dayofweek > 4].TransactionNo.nunique())"
   ],
   "metadata": {
    "collapsed": false
   }
  },
  {
   "cell_type": "markdown",
   "source": [
    "Шаг № 7 блока «2.16 Pandas. Продолжаем работу с датами»\n",
    "\n",
    "По файлу определите, в какой месяц какого года совершилось наибольшее кол-во покупок (TransactionNo)\n",
    "\n",
    "Преобразуйте колонку в тип datetime и сделайте ее индексом датафрейма\n",
    "Сделайте resample с периодичностью в 1 месяц\n",
    "Посчитайте кол-во уникальных значений в TransactionNo - это и будет кол-во покупок в каждом месяце\n",
    "Найдите в результате месяц где покупок больше всего\n",
    "Ответ запишите в формате YYYY-MM"
   ],
   "metadata": {
    "collapsed": false
   }
  },
  {
   "cell_type": "markdown",
   "source": [
    "Первый вариант решения:"
   ],
   "metadata": {
    "collapsed": false
   }
  },
  {
   "cell_type": "code",
   "execution_count": 11,
   "outputs": [
    {
     "name": "stdout",
     "output_type": "stream",
     "text": [
      "2017-03\n"
     ]
    }
   ],
   "source": [
    "url = 'https://raw.githubusercontent.com/bykov-alexei/data-science-course/master/Pandas/bakery.csv'\n",
    "df = pd.read_csv(url)\n",
    "df['DateTime'] = pd.to_datetime(df['DateTime'].astype('datetime64[M]'))\n",
    "print(df.groupby(['DateTime']).TransactionNo.size().idxmax().strftime('%Y-%m'))"
   ],
   "metadata": {
    "collapsed": false
   }
  },
  {
   "cell_type": "markdown",
   "source": [
    "Второй вариант решения:"
   ],
   "metadata": {
    "collapsed": false
   }
  },
  {
   "cell_type": "code",
   "execution_count": 12,
   "outputs": [
    {
     "name": "stdout",
     "output_type": "stream",
     "text": [
      "2017-03\n"
     ]
    }
   ],
   "source": [
    "url = 'https://raw.githubusercontent.com/bykov-alexei/data-science-course/master/Pandas/bakery.csv'\n",
    "df = pd.read_csv(url)\n",
    "df['DateTime'] = pd.to_datetime(df['DateTime'])\n",
    "df = df.set_index('DateTime')\n",
    "resampled = df.resample('M').nunique()\n",
    "print(resampled.TransactionNo.idxmax().strftime('%Y-%m'))"
   ],
   "metadata": {
    "collapsed": false
   }
  },
  {
   "cell_type": "markdown",
   "source": [
    "Шаг № 9 блока «2.16 Pandas. Продолжаем работу с датами»\n",
    "\n",
    "По файлу определите на какой адрес такси вызывали наибольшее кол-во раз"
   ],
   "metadata": {
    "collapsed": false
   }
  },
  {
   "cell_type": "code",
   "execution_count": 13,
   "outputs": [
    {
     "name": "stdout",
     "output_type": "stream",
     "text": [
      " 400 Brook Ave Mott Haven, BX\n"
     ]
    }
   ],
   "source": [
    "url = 'https://raw.githubusercontent.com/bykov-alexei/data-science-course/master/Pandas/uber.csv'\n",
    "df = pd.read_csv(url)\n",
    "print(df['PICK UP ADDRESS'].value_counts().idxmax())"
   ],
   "metadata": {
    "collapsed": false
   }
  },
  {
   "cell_type": "markdown",
   "source": [
    "Шаг № 10 блока «2.16 Pandas. Продолжаем работу с датами»\n",
    "\n",
    "По файлу определите самый загруженный день"
   ],
   "metadata": {
    "collapsed": false
   }
  },
  {
   "cell_type": "code",
   "execution_count": 14,
   "outputs": [
    {
     "name": "stdout",
     "output_type": "stream",
     "text": [
      "2014-09-13\n"
     ]
    }
   ],
   "source": [
    "url = 'https://raw.githubusercontent.com/bykov-alexei/data-science-course/master/Pandas/uber.csv'\n",
    "df = pd.read_csv(url)\n",
    "df['DATE'] = pd.to_datetime(df['DATE'])\n",
    "print(df.groupby('DATE')['PICK UP ADDRESS'].size().idxmax().strftime('%Y-%m-%d'))"
   ],
   "metadata": {
    "collapsed": false
   }
  },
  {
   "cell_type": "markdown",
   "source": [
    "Шаг № 11 блока «2.16 Pandas. Продолжаем работу с датами»\n",
    "\n",
    "По файлу определите самую загруженную неделю. В качестве ответа укажите дату последнего дня недели (resample выдает ее по умолчанию)"
   ],
   "metadata": {
    "collapsed": false
   }
  },
  {
   "cell_type": "code",
   "execution_count": 15,
   "outputs": [
    {
     "name": "stdout",
     "output_type": "stream",
     "text": [
      "2014-09-14\n"
     ]
    }
   ],
   "source": [
    "url = 'https://raw.githubusercontent.com/bykov-alexei/data-science-course/master/Pandas/uber.csv'\n",
    "df = pd.read_csv(url)\n",
    "df['DATE'] = pd.to_datetime(df['DATE'])\n",
    "df = df.set_index('DATE')\n",
    "resampled = df.resample('W').nunique()\n",
    "print(resampled['PICK UP ADDRESS'].idxmax().strftime('%Y-%m-%d'))"
   ],
   "metadata": {
    "collapsed": false
   }
  },
  {
   "cell_type": "markdown",
   "source": [
    "Шаг № 13 блока «2.16 Pandas. Продолжаем работу с датами»\n",
    "\n",
    "Напишите в какой месяц и в какой год произошло больше всего аварий"
   ],
   "metadata": {
    "collapsed": false
   }
  },
  {
   "cell_type": "code",
   "execution_count": 16,
   "outputs": [
    {
     "name": "stdout",
     "output_type": "stream",
     "text": [
      "2012-10\n"
     ]
    }
   ],
   "source": [
    "url = 'https://raw.githubusercontent.com/bykov-alexei/data-science-course/master/Pandas/disruptions.csv'\n",
    "df = pd.read_csv(url)\n",
    "df['Date Event Began'] = pd.to_datetime(df['Date Event Began'])\n",
    "df = df.set_index('Date Event Began')\n",
    "resampled = df.resample('M').nunique()\n",
    "print(resampled['Date of Restoration'].idxmax().strftime('%Y-%m'))"
   ],
   "metadata": {
    "collapsed": false
   }
  },
  {
   "cell_type": "markdown",
   "source": [
    "Шаг № 14 блока «2.16 Pandas. Продолжаем работу с датами»\n",
    "\n",
    "В какой месяц и год среднее время устранения аварии было минимальным. Ответ запишите в таком формате:\n",
    "\n",
    "2015-12"
   ],
   "metadata": {
    "collapsed": false
   }
  },
  {
   "cell_type": "markdown",
   "source": [
    "Первый вариант решения:"
   ],
   "metadata": {
    "collapsed": false
   }
  },
  {
   "cell_type": "code",
   "execution_count": 17,
   "outputs": [
    {
     "name": "stdout",
     "output_type": "stream",
     "text": [
      "2005-04\n"
     ]
    }
   ],
   "source": [
    "url = 'https://raw.githubusercontent.com/bykov-alexei/data-science-course/master/Pandas/disruptions.csv'\n",
    "df = pd.read_csv(url)\n",
    "df['DateTime Began'] = pd.to_datetime(df['Date Event Began'] + ' ' + df['Time Event Began'])\n",
    "df['DateTime Restoration'] = pd.to_datetime(df['Date of Restoration'] + ' ' + df['Time of Restoration'])\n",
    "df['Duration'] = abs(df['DateTime Restoration'] - df['DateTime Began'])\n",
    "df = df.set_index('DateTime Began')\n",
    "print(df.resample('M')['Duration'].mean().idxmin().strftime('%Y-%m'))"
   ],
   "metadata": {
    "collapsed": false
   }
  },
  {
   "cell_type": "markdown",
   "source": [
    "Второй вариант решения:"
   ],
   "metadata": {
    "collapsed": false
   }
  },
  {
   "cell_type": "code",
   "execution_count": 18,
   "outputs": [
    {
     "name": "stdout",
     "output_type": "stream",
     "text": [
      "2005-04\n"
     ]
    }
   ],
   "source": [
    "url = 'https://raw.githubusercontent.com/bykov-alexei/data-science-course/master/Pandas/disruptions.csv'\n",
    "df = pd.read_csv(url)\n",
    "df['DateTime Began'] = pd.to_datetime(df['Date Event Began'] + ' ' + df['Time Event Began'])\n",
    "df['DateTime Restoration'] = pd.to_datetime(df['Date of Restoration'] + ' ' + df['Time of Restoration'])\n",
    "df['Duration'] = abs(df['DateTime Restoration'] - df['DateTime Began'])\n",
    "print(df.resample('M', on='DateTime Began')['Duration'].mean().idxmin().strftime('%Y-%m'))"
   ],
   "metadata": {
    "collapsed": false
   }
  }
 ],
 "metadata": {
  "kernelspec": {
   "display_name": "Python 3",
   "language": "python",
   "name": "python3"
  },
  "language_info": {
   "codemirror_mode": {
    "name": "ipython",
    "version": 2
   },
   "file_extension": ".py",
   "mimetype": "text/x-python",
   "name": "python",
   "nbconvert_exporter": "python",
   "pygments_lexer": "ipython2",
   "version": "2.7.6"
  }
 },
 "nbformat": 4,
 "nbformat_minor": 0
}
